{
 "cells": [
  {
   "cell_type": "code",
   "execution_count": 1,
   "metadata": {},
   "outputs": [],
   "source": [
    "import numpy as np\n",
    "from matplotlib import pyplot as plt"
   ]
  },
  {
   "cell_type": "code",
   "execution_count": 2,
   "metadata": {},
   "outputs": [],
   "source": [
    "from main import MiddleLayer, OutputLayer, relu, relu_dash, softmax, error_dash"
   ]
  },
  {
   "cell_type": "code",
   "execution_count": 3,
   "metadata": {},
   "outputs": [
    {
     "data": {
      "text/plain": [
       "150"
      ]
     },
     "execution_count": 3,
     "metadata": {},
     "output_type": "execute_result"
    }
   ],
   "source": [
    "from sklearn import datasets\n",
    "\n",
    "iris_data = datasets.load_iris()\n",
    "row_data_X = iris_data.data\n",
    "row_data_Y = iris_data.target\n",
    "n_data = len(row_data_X)\n",
    "\n",
    "n_data"
   ]
  },
  {
   "cell_type": "code",
   "execution_count": 4,
   "metadata": {},
   "outputs": [],
   "source": [
    "ave_X = np.average(row_data_X, axis=0)\n",
    "std_X = np.std(row_data_X, axis=0)\n",
    "data_X = (row_data_X - ave_X) / std_X"
   ]
  },
  {
   "cell_type": "code",
   "execution_count": 5,
   "metadata": {},
   "outputs": [],
   "source": [
    "data_Y = np.zeros((n_data, 3))\n",
    "for i in range(n_data):\n",
    "    data_Y[i, row_data_Y[i]] = 1"
   ]
  },
  {
   "cell_type": "code",
   "execution_count": 6,
   "metadata": {},
   "outputs": [],
   "source": [
    "idx = np.arange(n_data)\n",
    "train_idx = idx[idx % 2 == 0]\n",
    "test_idx = idx[idx % 2 == 1]\n",
    "\n",
    "train_X = data_X[train_idx]\n",
    "train_Y = data_Y[train_idx]\n",
    "test_X = data_X[test_idx]\n",
    "test_Y = data_Y[test_idx]"
   ]
  },
  {
   "cell_type": "code",
   "execution_count": 7,
   "metadata": {},
   "outputs": [
    {
     "data": {
      "text/plain": [
       "(75, 75)"
      ]
     },
     "execution_count": 7,
     "metadata": {},
     "output_type": "execute_result"
    }
   ],
   "source": [
    "n_train = len(train_X)\n",
    "n_test = len(train_Y)\n",
    "\n",
    "n_test, n_train"
   ]
  },
  {
   "cell_type": "code",
   "execution_count": 8,
   "metadata": {},
   "outputs": [],
   "source": [
    "n_in = 4\n",
    "n_mid1 = 25\n",
    "n_mid2 = 25\n",
    "n_out = 3"
   ]
  },
  {
   "cell_type": "code",
   "execution_count": 9,
   "metadata": {},
   "outputs": [],
   "source": [
    "wb_width = 0.1\n",
    "eta = 0.01\n",
    "epoch = 100\n",
    "batch_size = 8\n",
    "interval = 10"
   ]
  },
  {
   "cell_type": "code",
   "execution_count": 10,
   "metadata": {},
   "outputs": [],
   "source": [
    "layers = []\n",
    "\n",
    "layers.append(MiddleLayer(n_in, n_mid1, activation_func=relu, activation_func_dash=relu_dash, wb_width=wb_width, eta=eta))\n",
    "layers.append(MiddleLayer(n_mid1, n_mid2, activation_func=relu, activation_func_dash=relu_dash, wb_width=wb_width, eta=eta))\n",
    "layers.append(OutputLayer(n_mid2, n_out, activation_func=softmax, error_func_dash=error_dash, wb_width=wb_width, eta=eta))"
   ]
  },
  {
   "cell_type": "code",
   "execution_count": 11,
   "metadata": {},
   "outputs": [],
   "source": [
    "def forward(X):\n",
    "    Y = X[:]\n",
    "    for layer in layers:\n",
    "        Y = layer.forward(Y)\n",
    "    return Y\n",
    "\n",
    "def backward(Y):\n",
    "    X = Y[:]\n",
    "    for layer in layers[::-1]:\n",
    "        X = layer.backward(X)\n",
    "    return X"
   ]
  },
  {
   "cell_type": "code",
   "execution_count": 12,
   "metadata": {},
   "outputs": [],
   "source": [
    "def get_error(Y, T, batch_size):\n",
    "    return -np.sum(T * np.log(Y + 1e-7)) / batch_size"
   ]
  },
  {
   "cell_type": "code",
   "execution_count": 13,
   "metadata": {},
   "outputs": [],
   "source": [
    "def correct_rate(Y, T, size):\n",
    "    return np.sum(np.argmax(Y, axis=1) == np.argmax(T, axis=1)) / size\n"
   ]
  },
  {
   "cell_type": "code",
   "execution_count": 14,
   "metadata": {},
   "outputs": [],
   "source": [
    "train_error_x = []\n",
    "train_error_y = []\n",
    "test_error_x = []\n",
    "test_error_y = []"
   ]
  },
  {
   "cell_type": "code",
   "execution_count": 15,
   "metadata": {},
   "outputs": [
    {
     "name": "stdout",
     "output_type": "stream",
     "text": [
      "Epoch: 0 / 100 Error_train: 1.103120333654238 Error_test: 1.1034561755548755\n",
      "Epoch: 10 / 100 Error_train: 0.5026858418432881 Error_test: 0.5086189970683305\n",
      "Epoch: 20 / 100 Error_train: 0.24609333485147086 Error_test: 0.24146521810415664\n",
      "Epoch: 30 / 100 Error_train: 0.11944536111333119 Error_test: 0.15444584174712997\n",
      "Epoch: 40 / 100 Error_train: 0.06542412905282298 Error_test: 0.08689415015823436\n",
      "Epoch: 50 / 100 Error_train: 0.052886494594656976 Error_test: 0.07163653198384905\n",
      "Epoch: 60 / 100 Error_train: 0.0400301969454123 Error_test: 0.06901466714617732\n",
      "Epoch: 70 / 100 Error_train: 0.03473901780820742 Error_test: 0.08055497023663992\n",
      "Epoch: 80 / 100 Error_train: 0.029136217505276216 Error_test: 0.07635332702446451\n",
      "Epoch: 90 / 100 Error_train: 0.02536904725360878 Error_test: 0.07431898222107877\n"
     ]
    }
   ],
   "source": [
    "for i in range(epoch):\n",
    "\n",
    "    Y = forward(train_X)\n",
    "    error_train = get_error(Y, train_Y, n_train)\n",
    "\n",
    "    Y = forward(test_X)\n",
    "    error_test = get_error(Y, test_Y, n_test)\n",
    "\n",
    "    train_error_x.append(i)\n",
    "    train_error_y.append(error_train)\n",
    "    test_error_x.append(i)\n",
    "    test_error_y.append(error_test)\n",
    "\n",
    "    if i % interval == 0:\n",
    "        print(f\"Epoch: {i} / {epoch}\", f\"Error_train: {error_train}\", f\"Error_test: {error_test}\")\n",
    "    \n",
    "    index_random = np.arange(n_train)\n",
    "    np.random.shuffle(index_random)\n",
    "    for j in range(0, n_train, batch_size):\n",
    "        mb_index = index_random[j : j + batch_size]\n",
    "        X = train_X[mb_index]\n",
    "        Y = train_Y[mb_index]\n",
    "\n",
    "        forward(X)\n",
    "        backward(Y)"
   ]
  },
  {
   "cell_type": "code",
   "execution_count": 16,
   "metadata": {},
   "outputs": [
    {
     "data": {
      "image/png": "[encoded data removed]",
      "text/plain": [
       "<Figure size 640x480 with 1 Axes>"
      ]
     },
     "metadata": {},
     "output_type": "display_data"
    }
   ],
   "source": [
    "plt.plot(train_error_x, train_error_y, label=\"Train\")\n",
    "plt.plot(test_error_x, test_error_y, label=\"Test\")\n",
    "plt.legend()\n",
    "\n",
    "plt.xlabel(\"Epochs\")\n",
    "plt.ylabel(\"Error\")\n",
    "\n",
    "plt.show()"
   ]
  },
  {
   "cell_type": "code",
   "execution_count": 18,
   "metadata": {},
   "outputs": [
    {
     "name": "stdout",
     "output_type": "stream",
     "text": [
      "Accuracy Train: 100.0%\n",
      "Accuracy Test: 97.33333333333334%\n"
     ]
    }
   ],
   "source": [
    "Y = forward(train_X)\n",
    "print(f\"Accuracy Train: {correct_rate(Y, train_Y, n_train) * 100}%\")\n",
    "\n",
    "Y = forward(test_X)\n",
    "print(f\"Accuracy Test: {correct_rate(Y, test_Y, n_test) * 100}%\")"
   ]
  }
 ],
 "metadata": {
  "kernelspec": {
   "display_name": "base",
   "language": "python",
   "name": "python3"
  },
  "language_info": {
   "codemirror_mode": {
    "name": "ipython",
    "version": 3
   },
   "file_extension": ".py",
   "mimetype": "text/x-python",
   "name": "python",
   "nbconvert_exporter": "python",
   "pygments_lexer": "ipython3",
   "version": "3.10.9"
  }
 },
 "nbformat": 4,
 "nbformat_minor": 2
}
