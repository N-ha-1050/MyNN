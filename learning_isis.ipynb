{
 "cells": [
  {
   "cell_type": "code",
   "execution_count": 31,
   "metadata": {},
   "outputs": [],
   "source": [
    "import numpy as np\n",
    "from matplotlib import pyplot as plt"
   ]
  },
  {
   "cell_type": "code",
   "execution_count": 10,
   "metadata": {},
   "outputs": [],
   "source": [
    "from main import MiddleLayer, OutputLayer, relu, relu_dash, softmax, error_dash"
   ]
  },
  {
   "cell_type": "code",
   "execution_count": 4,
   "metadata": {},
   "outputs": [],
   "source": [
    "from sklearn import datasets\n",
    "\n",
    "iris_data = datasets.load_iris()\n",
    "input_data = iris_data.data\n",
    "correct = iris_data.target\n",
    "n_data = len(correct)"
   ]
  },
  {
   "cell_type": "code",
   "execution_count": 6,
   "metadata": {},
   "outputs": [],
   "source": [
    "ave_input = np.average(input_data, axis=0)\n",
    "std_input = np.std(input_data, axis=0)\n",
    "input_data = (input_data - ave_input) / std_input"
   ]
  },
  {
   "cell_type": "code",
   "execution_count": 8,
   "metadata": {},
   "outputs": [],
   "source": [
    "correct_data = np.zeros((n_data, 3))\n",
    "for i in range(n_data):\n",
    "    correct_data[i, correct[i]] = 1.0"
   ]
  },
  {
   "cell_type": "code",
   "execution_count": 9,
   "metadata": {},
   "outputs": [],
   "source": [
    "index = np.arange(n_data)\n",
    "index_train = index[index % 2 == 0]\n",
    "index_test = index[index % 2 == 1]\n",
    "\n",
    "input_train = input_data[index_train]\n",
    "correct_train = correct_data[index_train]\n",
    "input_test = input_data[index_test]\n",
    "correct_test= correct_data[index_test]"
   ]
  },
  {
   "cell_type": "code",
   "execution_count": 21,
   "metadata": {},
   "outputs": [],
   "source": [
    "n_train = len(input_train)\n",
    "n_test = len(input_test)"
   ]
  },
  {
   "cell_type": "code",
   "execution_count": 12,
   "metadata": {},
   "outputs": [],
   "source": [
    "n_in = 4\n",
    "n_mid1 = 25\n",
    "n_mid2 = 25\n",
    "n_out = 3"
   ]
  },
  {
   "cell_type": "code",
   "execution_count": 54,
   "metadata": {},
   "outputs": [],
   "source": [
    "wb_width = 0.1\n",
    "eta = 0.01\n",
    "epoch = 100\n",
    "batch_size = 8\n",
    "interval = 10"
   ]
  },
  {
   "cell_type": "code",
   "execution_count": 70,
   "metadata": {},
   "outputs": [],
   "source": [
    "layers = []\n",
    "\n",
    "layers.append(MiddleLayer(n_in, n_mid1, activation_func=relu, activation_func_dash=relu_dash, wb_width=wb_width, eta=eta))\n",
    "layers.append(MiddleLayer(n_mid1, n_mid2, activation_func=relu, activation_func_dash=relu_dash, wb_width=wb_width, eta=eta))\n",
    "layers.append(OutputLayer(n_mid2, n_out, activation_func=softmax, error_func_dash=error_dash, wb_width=wb_width, eta=eta))"
   ]
  },
  {
   "cell_type": "code",
   "execution_count": 71,
   "metadata": {},
   "outputs": [],
   "source": [
    "def forward(X):\n",
    "    Y = X[:]\n",
    "    for layer in layers:\n",
    "        Y = layer.forward(Y)\n",
    "    return Y\n",
    "\n",
    "def backward(Y):\n",
    "    X = Y[:]\n",
    "    for layer in layers[::-1]:\n",
    "        X = layer.backward(X)\n",
    "    return X"
   ]
  },
  {
   "cell_type": "code",
   "execution_count": 72,
   "metadata": {},
   "outputs": [],
   "source": [
    "def get_error(Y, T, batch_size):\n",
    "    return -np.sum(T * np.log(Y + 1e-7)) / batch_size"
   ]
  },
  {
   "cell_type": "code",
   "execution_count": 73,
   "metadata": {},
   "outputs": [],
   "source": [
    "train_error_x = []\n",
    "train_error_y = []\n",
    "test_error_x = []\n",
    "test_error_y = []"
   ]
  },
  {
   "cell_type": "code",
   "execution_count": 74,
   "metadata": {},
   "outputs": [],
   "source": [
    "n_batch = n_train // batch_size"
   ]
  },
  {
   "cell_type": "code",
   "execution_count": 75,
   "metadata": {},
   "outputs": [
    {
     "name": "stdout",
     "output_type": "stream",
     "text": [
      "Epoch: 0 / 100 Error_train: 1.1036984441771092 Error_test: 1.1026002691367927\n",
      "Epoch: 10 / 100 Error_train: 0.44404989536434264 Error_test: 0.44872998521100016\n",
      "Epoch: 20 / 100 Error_train: 0.2160369507907878 Error_test: 0.21289043630480692\n",
      "Epoch: 30 / 100 Error_train: 0.1006975333467551 Error_test: 0.1179266838584869\n",
      "Epoch: 40 / 100 Error_train: 0.06292635900228978 Error_test: 0.09057755496747331\n",
      "Epoch: 50 / 100 Error_train: 0.04748210588902449 Error_test: 0.08595940157019966\n",
      "Epoch: 60 / 100 Error_train: 0.037577454956059464 Error_test: 0.0724529734549392\n",
      "Epoch: 70 / 100 Error_train: 0.03225060141678571 Error_test: 0.06836339880055492\n",
      "Epoch: 80 / 100 Error_train: 0.029625884585022463 Error_test: 0.08305755556671046\n",
      "Epoch: 90 / 100 Error_train: 0.025460354886654563 Error_test: 0.06938814561515506\n"
     ]
    }
   ],
   "source": [
    "for i in range(epoch):\n",
    "\n",
    "    Y = forward(input_train)\n",
    "    error_train = get_error(Y, correct_train, n_train)\n",
    "\n",
    "    Y = forward(input_test)\n",
    "    error_test = get_error(Y, correct_test, n_test)\n",
    "\n",
    "    train_error_x.append(i)\n",
    "    train_error_y.append(error_train)\n",
    "    test_error_x.append(i)\n",
    "    test_error_y.append(error_test)\n",
    "\n",
    "    if i % interval == 0:\n",
    "        print(f\"Epoch: {i} / {epoch}\", f\"Error_train: {error_train}\", f\"Error_test: {error_test}\")\n",
    "    \n",
    "    index_random = np.arange(n_train)\n",
    "    np.random.shuffle(index_random)\n",
    "    for j in range(n_batch):\n",
    "        mb_index = index_random[j * batch_size : (j + 1) * batch_size]\n",
    "        X = input_train[mb_index]\n",
    "        Y = correct_train[mb_index]\n",
    "\n",
    "        forward(X)\n",
    "        backward(Y)"
   ]
  },
  {
   "cell_type": "code",
   "execution_count": 76,
   "metadata": {},
   "outputs": [
    {
     "data": {
      "image/png": "[encoded data removed]",
      "text/plain": [
       "<Figure size 640x480 with 1 Axes>"
      ]
     },
     "metadata": {},
     "output_type": "display_data"
    }
   ],
   "source": [
    "plt.plot(train_error_x, train_error_y, label=\"Train\")\n",
    "plt.plot(test_error_x, test_error_y, label=\"Test\")\n",
    "plt.legend()\n",
    "\n",
    "plt.xlabel(\"Epochs\")\n",
    "plt.ylabel(\"Error\")\n",
    "\n",
    "plt.show()"
   ]
  },
  {
   "cell_type": "code",
   "execution_count": 78,
   "metadata": {},
   "outputs": [
    {
     "name": "stdout",
     "output_type": "stream",
     "text": [
      "Accuracy Train: 100.0% Accuracy Test: 97.33333333333334%\n"
     ]
    }
   ],
   "source": [
    "Y = forward(input_train)\n",
    "count_train = np.sum(np.argmax(Y, axis=1) == np.argmax(correct_train, axis=1))\n",
    "\n",
    "Y = forward(input_test)\n",
    "count_test = np.sum(np.argmax(Y, axis=1) == np.argmax(correct_test, axis=1))\n",
    "\n",
    "print(f\"Accuracy Train: {count_train / n_train * 100}%\", f\"Accuracy Test: {count_test / n_test * 100}%\")"
   ]
  },
  {
   "cell_type": "code",
   "execution_count": null,
   "metadata": {},
   "outputs": [],
   "source": []
  }
 ],
 "metadata": {
  "kernelspec": {
   "display_name": "base",
   "language": "python",
   "name": "python3"
  },
  "language_info": {
   "codemirror_mode": {
    "name": "ipython",
    "version": 3
   },
   "file_extension": ".py",
   "mimetype": "text/x-python",
   "name": "python",
   "nbconvert_exporter": "python",
   "pygments_lexer": "ipython3",
   "version": "3.10.9"
  }
 },
 "nbformat": 4,
 "nbformat_minor": 2
}
